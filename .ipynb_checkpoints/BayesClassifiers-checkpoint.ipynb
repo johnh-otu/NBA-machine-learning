{
 "cells": [
  {
   "cell_type": "code",
   "execution_count": 1,
   "id": "73291812-7d4e-47cf-a0ed-1700a44e3ca2",
   "metadata": {},
   "outputs": [],
   "source": [
    "# IMPORTS\n",
    "import csv\n",
    "import os "
   ]
  },
  {
   "cell_type": "markdown",
   "id": "465ff8a5-029d-4993-b383-8bd9f02a05f5",
   "metadata": {},
   "source": [
    "# FUNCTIONS"
   ]
  },
  {
   "cell_type": "code",
   "execution_count": 2,
   "id": "424a0174-c6ea-4345-bfa1-97d8c24decf4",
   "metadata": {},
   "outputs": [],
   "source": [
    "def loadCSVFile(filename) :\n",
    "    filepath = \"D:\\\\Documents\\\\jupyter\" + filename\n",
    "    features = []\n",
    "    data_dict = []\n",
    "\n",
    "    print(\"Loading CSV File...\")\n",
    "    \n",
    "    with open(filename, mode='r') as csvfile:\n",
    "        csv_reader = csv.DictReader(csvfile)\n",
    "        features = csv_reader.fieldnames\n",
    "        data_dict = [row for row in csv_reader]\n",
    "\n",
    "    print(\"CSV File Loaded Successfully.\\n\")\n",
    "    print(f\"Features: {features}\")\n",
    "    print(f\"Class Label: {features[len(features) - 1]}\\n\")\n",
    "\n",
    "    return features, data_dict"
   ]
  },
  {
   "cell_type": "code",
   "execution_count": 3,
   "id": "22d41de2-1e03-42ac-b0dc-a684455d6de9",
   "metadata": {},
   "outputs": [],
   "source": [
    "def helloworld():\n",
    "    print(\"hello world\")"
   ]
  },
  {
   "cell_type": "code",
   "execution_count": 4,
   "id": "63949646-847e-49d7-9e6b-6dc5ee16ac8a",
   "metadata": {},
   "outputs": [],
   "source": [
    "def bayes_agivenb(a, b, bgivena) :\n",
    "    return (a * bgivena) / b"
   ]
  },
  {
   "cell_type": "code",
   "execution_count": 5,
   "id": "2d61ab6d-cc8b-4918-8c08-1a83256a7ff8",
   "metadata": {},
   "outputs": [],
   "source": [
    "def arrayProduct(floatarray) :\n",
    "    product = 1\n",
    "    for value in floatarray :\n",
    "        product *= value\n",
    "    return product"
   ]
  },
  {
   "cell_type": "code",
   "execution_count": 6,
   "id": "6131771c-db39-4be2-b130-4a5c2e4b7d21",
   "metadata": {},
   "outputs": [],
   "source": [
    "# ===== class probabilty function =====\n",
    "# given:\n",
    "#   class probability, or P(c)\n",
    "#   conditional probabilities, or P(c|xi) for i = [0,n-1]\n",
    "#   feature probabilities, or P(xi) for i = [0,n-1]\n",
    "# parameters:\n",
    "#   class_probability : float\n",
    "#   conditional_probabilities : float[n]\n",
    "#   feature_probabilities : float[n]\n",
    "def NaiveBayes(class_probability, conditional_probabilities, feature_probabilities) :\n",
    "    product_conditional = arrayProduct(conditional_probabilities)\n",
    "    product_features = arrayProduct(feature_probabilities)\n",
    "    return bayes_agivenb(class_probability, product_features, product_conditional)"
   ]
  },
  {
   "cell_type": "code",
   "execution_count": 7,
   "id": "45437e47-cc93-4a54-bf35-f14abcf1cd35",
   "metadata": {},
   "outputs": [],
   "source": [
    "# ===== add row to probability matrix =====\n",
    "# row: must be a dictionary with the following format:\n",
    "#    feature : value\n",
    "\n",
    "def addRowProbMatrix(matrix, features, row) :\n",
    "    feature_count = len(features) - 1 # subtract 1 to ignore class on far right of csv\n",
    "    rowClass = row[features[feature_count]]  # features[feature_count] is the farthest column, aka class\n",
    "    \n",
    "    for index in range(feature_count) :\n",
    "            feature = features[index]\n",
    "            value = row[feature]\n",
    "\n",
    "            # create value entry if not there\n",
    "            if not (value in matrix[feature]) :\n",
    "                value_entry_dict = {}\n",
    "                # include counts for each class\n",
    "                for data_class in classes :\n",
    "                    value_entry_dict[data_class] = 0\n",
    "                # include total\n",
    "                value_entry_dict[\"total\"] = 0\n",
    "                # build value entry\n",
    "                matrix[feature][value] = value_entry_dict\n",
    "                # print(f\"New value entry [{feature} : {value}]\")\n",
    "\n",
    "            # update value entry\n",
    "            matrix[feature][value][rowClass] += 1\n",
    "            matrix[feature][value][\"total\"] += 1\n",
    "            matrix[\"%class_counts%\"][rowClass] += 1\n",
    "            matrix[\"%total%\"] += 1"
   ]
  },
  {
   "cell_type": "code",
   "execution_count": 8,
   "id": "64dcd09c-3864-463f-b6bd-2e2ff82557de",
   "metadata": {},
   "outputs": [],
   "source": [
    "# ===== probability_matrix =====\n",
    "# feature:\n",
    "#   value:\n",
    "#       class1 : count\n",
    "#       class2 : count\n",
    "#       \"total\" : count\n",
    "# \"%class_counts%\":\n",
    "#   class1 : count\n",
    "#   class2 : count\n",
    "# ASSUME LAST FEATURE IN DICT IS CLASS\n",
    "def buildProbabilityMatrix(features, csvdict, classes) :\n",
    "    print(\"Building Probability Matrix...\")\n",
    "    matrix = {}\n",
    "    feature_count = len(features) - 1 # subtract 1 to ignore class on far right of csv\n",
    "\n",
    "    # add each feature\n",
    "    for index in range(feature_count) :\n",
    "        matrix[features[index]] = dict()\n",
    "    # add class counts\n",
    "    matrix[\"%class_counts%\"] = {}\n",
    "    for data_class in classes :\n",
    "        matrix[\"%class_counts%\"][data_class] = 0\n",
    "    # add total count\n",
    "    matrix[\"%total%\"] = 0\n",
    "    \n",
    "    # add each value to probability\n",
    "    for row in csvdict :\n",
    "        addRowProbMatrix(matrix, features, row) # add row to matrix\n",
    "    \n",
    "    print(\"Matrix Completed\")\n",
    "    return matrix\n"
   ]
  },
  {
   "cell_type": "code",
   "execution_count": 9,
   "id": "b2bee6c3-a350-4850-9796-97d62993c5e9",
   "metadata": {},
   "outputs": [],
   "source": [
    "def ClassifyRow(prob_matrix, features, row, classes) :\n",
    "    total = prob_matrix[\"%total%\"]\n",
    "    best_probability = 0\n",
    "    best_class = \"\"\n",
    "\n",
    "    # generate feature probabilites\n",
    "    feature_probabilities = []\n",
    "    for index in range(len(features) - 1):\n",
    "        feature = features[index]\n",
    "        feature_probabilities.append(prob_matrix[feature][row[feature]][\"total\"] / total)\n",
    "    \n",
    "    for data_class in classes:\n",
    "        #generate class probability\n",
    "        class_prob = prob_matrix[\"%class_counts%\"][data_class] / total\n",
    "        # generate conditional probabilities\n",
    "        conditional_probabilities = []\n",
    "        for index in range(len(features) - 1):\n",
    "            feature = features[index]\n",
    "            conditional_probabilities.append(prob_matrix[feature][row[feature]][data_class] / prob_matrix[feature][row[feature]][\"total\"])\n",
    "        # generate P(C|x)\n",
    "        p = NaiveBayes(class_prob, conditional_probabilities, feature_probabilities)\n",
    "        \n",
    "        print(f\"{data_class} : {p}\")\n",
    "        \n",
    "        if (p > best_probability) :\n",
    "            best_probability = p\n",
    "            best_class = data_class\n",
    "    \n",
    "    # return chosen class and probability\n",
    "    return best_class, best_probability"
   ]
  },
  {
   "cell_type": "markdown",
   "id": "509f7a54-bc56-45ab-a7cb-131c34ec542a",
   "metadata": {},
   "source": [
    "# TESTS / RUNS"
   ]
  },
  {
   "cell_type": "code",
   "execution_count": 10,
   "id": "4aba5977-16d6-4d85-9da8-5d7444c6251e",
   "metadata": {},
   "outputs": [
    {
     "name": "stdout",
     "output_type": "stream",
     "text": [
      "hello world\n"
     ]
    }
   ],
   "source": [
    "helloworld()"
   ]
  },
  {
   "cell_type": "code",
   "execution_count": 11,
   "id": "db568cc7-4153-49f7-8d4b-43db51799e16",
   "metadata": {},
   "outputs": [
    {
     "name": "stdout",
     "output_type": "stream",
     "text": [
      "0.013333333333333334\n"
     ]
    }
   ],
   "source": [
    "print(bayes_agivenb(0.20, 0.30, 0.02))"
   ]
  },
  {
   "cell_type": "code",
   "execution_count": 12,
   "id": "c1fefe9e-41f3-4e3f-842d-a2befb5dc8d6",
   "metadata": {},
   "outputs": [
    {
     "name": "stdout",
     "output_type": "stream",
     "text": [
      "Loading CSV File...\n",
      "CSV File Loaded Successfully.\n",
      "\n",
      "Features: ['home_team', 'away_team', 'starting_min', 'end_min', 'home_0', 'home_1', 'home_2', 'home_3', 'home_4', 'away_0', 'away_1', 'away_2', 'away_3', 'away_4', 'fga_home', 'fta_home', 'fgm_home', 'fga_2_home', 'fgm_2_home', 'fga_3_home', 'fgm_3_home', 'ast_home', 'blk_home', 'pf_home', 'reb_home', 'dreb_home', 'oreb_home', 'to_home', 'pts_home', 'pct_home', 'pct_2_home', 'pct_3_home', 'fga_visitor', 'fta_visitor', 'fgm_visitor', 'fga_2_visitor', 'fgm_2_visitor', 'fga_3_visitor', 'fgm_3_visitor', 'ast_visitor', 'blk_visitor', 'pf_visitor', 'reb_visitor', 'dreb_visitor', 'oreb_visitor', 'to_visitor', 'pts_visitor', 'pct_visitor', 'pct_2_visitor', 'pct_3_visitor', 'outcome']\n",
      "Class Label: outcome\n",
      "\n",
      "Building Probability Matrix...\n",
      "Matrix Completed\n"
     ]
    }
   ],
   "source": [
    "# MAKE PROBABILITY MATRIX\n",
    "features, csvdata = loadCSVFile(\"matchups-2007-trunc.csv\")\n",
    "classes = [\"-1\", \"1\"]\n",
    "\n",
    "prob_matrix = buildProbabilityMatrix(features, csvdata, classes)"
   ]
  },
  {
   "cell_type": "code",
   "execution_count": 13,
   "id": "9f0442f9-731f-4149-a95e-a7c90d3f7138",
   "metadata": {},
   "outputs": [
    {
     "name": "stdout",
     "output_type": "stream",
     "text": [
      "897100 - 65.24363636363636%\n",
      "477900 - 34.75636363636364%\n",
      "1375000\n",
      "True\n"
     ]
    }
   ],
   "source": [
    "c1 = prob_matrix[\"%class_counts%\"][\"-1\"]\n",
    "c2 = prob_matrix[\"%class_counts%\"][\"1\"]\n",
    "total = prob_matrix[\"%total%\"]\n",
    "print(f\"{c1} - {c1/total*100}%\")\n",
    "print(f\"{c2} - {c2/total*100}%\")\n",
    "print(total)\n",
    "print(c1 + c2 == total)"
   ]
  },
  {
   "cell_type": "code",
   "execution_count": 14,
   "id": "a43bc12f-e9ea-4259-9852-6561b1bd90af",
   "metadata": {},
   "outputs": [
    {
     "name": "stdout",
     "output_type": "stream",
     "text": [
      "{'home_team': 'LAL', 'away_team': 'PHO', 'starting_min': '12', 'end_min': '12', 'home_0': 'Brian Cook', 'home_1': 'Maurice Evans', 'home_2': 'Sasha Vujacic', 'home_3': 'Smush Parker', 'home_4': 'Vladimir Radmanovic', 'away_0': 'Boris Diaw', 'away_1': 'James Jones', 'away_2': 'Kurt Thomas', 'away_3': 'Leandro Barbosa', 'away_4': 'Marcus Banks', 'fga_home': '1', 'fta_home': '0', 'fgm_home': '1', 'fga_2_home': '0', 'fgm_2_home': '0', 'fga_3_home': '1', 'fgm_3_home': '1', 'ast_home': '1', 'blk_home': '0', 'pf_home': '0', 'reb_home': '1', 'dreb_home': '1', 'oreb_home': '0', 'to_home': '0', 'pts_home': '3', 'pct_home': '1', 'pct_2_home': '0', 'pct_3_home': '1', 'fga_visitor': '2', 'fta_visitor': '0', 'fgm_visitor': '1', 'fga_2_visitor': '2', 'fgm_2_visitor': '1', 'fga_3_visitor': '0', 'fgm_3_visitor': '0', 'ast_visitor': '1', 'blk_visitor': '0', 'pf_visitor': '1', 'reb_visitor': '0', 'dreb_visitor': '0', 'oreb_visitor': '0', 'to_visitor': '0', 'pts_visitor': '2', 'pct_visitor': '0.5', 'pct_2_visitor': '0.5', 'pct_3_visitor': '0', 'outcome': '1'}\n",
      "{'home_team': 'SAS', 'away_team': 'PHO', 'starting_min': '35', 'end_min': '35', 'home_0': 'Brent Barry', 'home_1': 'Fabricio Oberto', 'home_2': 'Michael Finley', 'home_3': 'Robert Horry', 'home_4': 'Tony Parker', 'away_0': 'Boris Diaw', 'away_1': 'Leandro Barbosa', 'away_2': 'Marcus Banks', 'away_3': 'Raja Bell', 'away_4': 'Shawn Marion', 'fga_home': '3', 'fta_home': '0', 'fgm_home': '0', 'fga_2_home': '2', 'fgm_2_home': '0', 'fga_3_home': '1', 'fgm_3_home': '0', 'ast_home': '0', 'blk_home': '0', 'pf_home': '0', 'reb_home': '2', 'dreb_home': '1', 'oreb_home': '1', 'to_home': '1', 'pts_home': '0', 'pct_home': '0', 'pct_2_home': '0', 'pct_3_home': '0', 'fga_visitor': '1', 'fta_visitor': '2', 'fgm_visitor': '0', 'fga_2_visitor': '1', 'fgm_2_visitor': '0', 'fga_3_visitor': '0', 'fgm_3_visitor': '0', 'ast_visitor': '0', 'blk_visitor': '0', 'pf_visitor': '0', 'reb_visitor': '2', 'dreb_visitor': '2', 'oreb_visitor': '0', 'to_visitor': '0', 'pts_visitor': '0', 'pct_visitor': '0', 'pct_2_visitor': '0', 'pct_3_visitor': '0', 'outcome': '-1'}\n"
     ]
    }
   ],
   "source": [
    "print(csvdata[5])\n",
    "print(csvdata[100])"
   ]
  },
  {
   "cell_type": "code",
   "execution_count": 15,
   "id": "44f9a225-61d1-401e-9556-31aadd88d30e",
   "metadata": {},
   "outputs": [
    {
     "name": "stdout",
     "output_type": "stream",
     "text": [
      "-1 : 1.0625435295244503e+124\n",
      "1 : 6.05721822932815e+110\n",
      "Predicted Class: -1\n",
      "Prediction Probability: 1.0625435295244503e+124\n"
     ]
    }
   ],
   "source": [
    "new_row = {'home_team': 'SAS', 'away_team': 'PHO', 'starting_min': '12', 'end_min': '12', 'home_0': 'Brian Cook', 'home_1': 'Maurice Evans', 'home_2': 'Sasha Vujacic', 'home_3': 'Smush Parker', 'home_4': 'Vladimir Radmanovic', 'away_0': 'Boris Diaw', 'away_1': 'James Jones', 'away_2': 'Kurt Thomas', 'away_3': 'Leandro Barbosa', 'away_4': 'Marcus Banks', 'fga_home': '1', 'fta_home': '0', 'fgm_home': '2', 'fga_2_home': '3', 'fgm_2_home': '0', 'fga_3_home': '1', 'fgm_3_home': '1', 'ast_home': '1', 'blk_home': '0', 'pf_home': '0', 'reb_home': '1', 'dreb_home': '1', 'oreb_home': '0', 'to_home': '0', 'pts_home': '3', 'pct_home': '1', 'pct_2_home': '0', 'pct_3_home': '1', 'fga_visitor': '2', 'fta_visitor': '0', 'fgm_visitor': '1', 'fga_2_visitor': '2', 'fgm_2_visitor': '1', 'fga_3_visitor': '0', 'fgm_3_visitor': '0', 'ast_visitor': '1', 'blk_visitor': '0', 'pf_visitor': '1', 'reb_visitor': '0', 'dreb_visitor': '0', 'oreb_visitor': '0', 'to_visitor': '0', 'pts_visitor': '2', 'pct_visitor': '0.5', 'pct_2_visitor': '0.5', 'pct_3_visitor': '0'}\n",
    "\n",
    "c, p = ClassifyRow(prob_matrix, features, new_row, classes)\n",
    "print(f\"Predicted Class: {c}\")\n",
    "print(f\"Prediction Probability: {p}\")"
   ]
  },
  {
   "cell_type": "code",
   "execution_count": null,
   "id": "2d37f419-d665-4a69-9b1e-3fcdffa7633b",
   "metadata": {},
   "outputs": [],
   "source": []
  }
 ],
 "metadata": {
  "kernelspec": {
   "display_name": "Python 3 (ipykernel)",
   "language": "python",
   "name": "python3"
  },
  "language_info": {
   "codemirror_mode": {
    "name": "ipython",
    "version": 3
   },
   "file_extension": ".py",
   "mimetype": "text/x-python",
   "name": "python",
   "nbconvert_exporter": "python",
   "pygments_lexer": "ipython3",
   "version": "3.9.4"
  }
 },
 "nbformat": 4,
 "nbformat_minor": 5
}
