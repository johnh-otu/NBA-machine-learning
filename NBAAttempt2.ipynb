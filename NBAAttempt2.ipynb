{
 "cells": [
  {
   "cell_type": "markdown",
   "id": "c19a4a71-b948-40b6-b288-cdc12b82303a",
   "metadata": {},
   "source": [
    "## Brainstorming\n",
    "Given features:\n",
    "- players\n",
    "- outcome (1)\n",
    "- teams?\n",
    "- lineup score\n",
    "\n",
    "Player lineups give different scores -> used as an input\n",
    "\n",
    "https://sportsdata.io/developers/fantasy-scoring-system/nba"
   ]
  },
  {
   "cell_type": "raw",
   "id": "7187608c-3d19-4d8d-abaa-8160ee0b53c5",
   "metadata": {},
   "source": [
    "3*fgm_3 + 2*fgm_2 + fta (can't use ftm for some reason) + 1.2*reb + 1.5*ast + 2*blk - to"
   ]
  },
  {
   "cell_type": "code",
   "execution_count": 2,
   "id": "13a54558-1999-4057-a1df-defeed7417f4",
   "metadata": {},
   "outputs": [],
   "source": [
    "import pandas as pd\n",
    "from sklearn.model_selection import train_test_split\n",
    "from sklearn.ensemble import RandomForestClassifier\n",
    "from sklearn.metrics import accuracy_score, classification_report"
   ]
  },
  {
   "cell_type": "code",
   "execution_count": 3,
   "id": "8eca01f0-5232-4c08-891a-982f0e505ad2",
   "metadata": {},
   "outputs": [],
   "source": [
    "data = pd.read_csv(f\"matchups-2007-trunc.csv\")"
   ]
  },
  {
   "cell_type": "code",
   "execution_count": null,
   "id": "ca206edd-ad01-46d9-bc64-f907bd49d13f",
   "metadata": {},
   "outputs": [],
   "source": []
  },
  {
   "cell_type": "code",
   "execution_count": null,
   "id": "99c179aa-a306-45d2-9fb5-e844889216ed",
   "metadata": {},
   "outputs": [],
   "source": [
    "new_col = []\n",
    "for row in data.iterrows():\n",
    "    \n",
    "\n",
    "X.insert(0, \"lineup_score\", new_col, allow_duplicates=True)"
   ]
  },
  {
   "cell_type": "code",
   "execution_count": null,
   "id": "19a9a911-46df-47e5-bf40-0038111e9560",
   "metadata": {},
   "outputs": [],
   "source": [
    "X = data.drop(columns['game', ])"
   ]
  },
  {
   "cell_type": "markdown",
   "id": "37cc8aac-be58-4840-980c-e30b59c9cfc3",
   "metadata": {},
   "source": [
    "### Features"
   ]
  },
  {
   "cell_type": "raw",
   "id": "b966cda1-37fc-417b-9a6d-fe7b997d92c9",
   "metadata": {},
   "source": [
    "# FEATURES\n",
    "game\n",
    "season\n",
    "home_team\n",
    "away_team\n",
    "starting_min\n",
    "end_min\n",
    "home_0\n",
    "home_1\n",
    "home_2\n",
    "home_3\n",
    "home_4\n",
    "away_0\n",
    "away_1\n",
    "away_2\n",
    "away_3\n",
    "away_4\n",
    "fga_home\n",
    "fta_home\n",
    "fgm_home\n",
    "fga_2_home\n",
    "fgm_2_home\n",
    "fga_3_home\n",
    "fgm_3_home\n",
    "ast_home\n",
    "blk_home\n",
    "pf_home\n",
    "reb_home\n",
    "dreb_home\n",
    "oreb_home\n",
    "to_home\n",
    "pts_home\n",
    "pct_home\n",
    "pct_2_home\n",
    "pct_3_home\n",
    "fga_visitor\n",
    "fta_visitor\n",
    "fgm_visitor\n",
    "fga_2_visitor\n",
    "fgm_2_visitor\n",
    "fga_3_visitor\n",
    "fgm_3_visitor\n",
    "ast_visitor\n",
    "blk_visitor\n",
    "pf_visitor\n",
    "reb_visitor\n",
    "dreb_visitor\n",
    "oreb_visitor\n",
    "to_visitor\n",
    "pts_visitor\n",
    "pct_visitor\n",
    "pct_2_visitor\n",
    "pct_3_visitor\n",
    "outcome"
   ]
  },
  {
   "cell_type": "raw",
   "id": "5d34139e-88cf-47f9-b45f-125283460e9d",
   "metadata": {
    "jupyter": {
     "source_hidden": true
    }
   },
   "source": [
    "# X\n",
    "season\n",
    "starting_min\n",
    "end_min\n",
    "home_0\n",
    "home_1\n",
    "home_2\n",
    "home_3\n",
    "away_0\n",
    "away_1\n",
    "away_2\n",
    "away_3\n",
    "away_4\n",
    "fga_home\n",
    "fta_home\n",
    "fgm_home\n",
    "fga_2_home\n",
    "fgm_2_home\n",
    "fga_3_home\n",
    "fgm_3_home\n",
    "ast_home\n",
    "blk_home\n",
    "pf_home\n",
    "reb_home\n",
    "dreb_home\n",
    "oreb_home\n",
    "to_home\n",
    "pts_home\n",
    "pct_home\n",
    "pct_2_home\n",
    "pct_3_home\n",
    "fga_visitor\n",
    "fta_visitor\n",
    "fgm_visitor\n",
    "fga_2_visitor\n",
    "fgm_2_visitor\n",
    "fga_3_visitor\n",
    "fgm_3_visitor\n",
    "ast_visitor\n",
    "blk_visitor\n",
    "pf_visitor\n",
    "reb_visitor\n",
    "dreb_visitor\n",
    "oreb_visitor\n",
    "to_visitor\n",
    "pts_visitor\n",
    "pct_visitor\n",
    "pct_2_visitor\n",
    "pct_3_visitor\n",
    "outcome"
   ]
  }
 ],
 "metadata": {
  "kernelspec": {
   "display_name": "Python 3 (ipykernel)",
   "language": "python",
   "name": "python3"
  },
  "language_info": {
   "codemirror_mode": {
    "name": "ipython",
    "version": 3
   },
   "file_extension": ".py",
   "mimetype": "text/x-python",
   "name": "python",
   "nbconvert_exporter": "python",
   "pygments_lexer": "ipython3",
   "version": "3.9.4"
  }
 },
 "nbformat": 4,
 "nbformat_minor": 5
}
